{
 "cells": [
  {
   "cell_type": "code",
   "execution_count": 1,
   "metadata": {},
   "outputs": [],
   "source": [
    "import pandas as pd\n",
    "import re\n"
   ]
  },
  {
   "cell_type": "markdown",
   "metadata": {},
   "source": [
    "1. Load data\n",
    "2. Clean data (Million song subset)\n",
    "3. Merge datasets\n",
    "4. Save data"
   ]
  },
  {
   "cell_type": "code",
   "execution_count": null,
   "metadata": {},
   "outputs": [],
   "source": [
    "million_songs_df = pd.read_csv('../data/raw/2_million_song_subset_raw.csv')\n",
    "hot100_df = pd.read_csv('../data/raw/1_hot100.csv')\n",
    "\n",
    "million_songs_df.head()"
   ]
  },
  {
   "cell_type": "code",
   "execution_count": null,
   "metadata": {},
   "outputs": [],
   "source": [
    "missing_columns = million_songs_df.isna().any()\n",
    "print(missing_columns)\n"
   ]
  },
  {
   "cell_type": "markdown",
   "metadata": {},
   "source": [
    "Split million_songs_df into songs and artists"
   ]
  },
  {
   "cell_type": "code",
   "execution_count": 4,
   "metadata": {},
   "outputs": [],
   "source": [
    "million_songs_df[['song_title', 'artist']] = million_songs_df['title;artist'].str.split(';b', expand=True)  # separate title and artist into separate columns\n",
    "\n",
    "# clean strings\n",
    "million_songs_df['song_title'] = million_songs_df['song_title'].str.replace(r\"^b['\\\"]|['\\\"]$\", \"\", regex=True)\n",
    "million_songs_df['artist'] = million_songs_df['artist'].str.replace(r\"^['\\\"]|['\\\"]$\", \"\", regex=True)\n",
    "\n",
    "# decode UTF-8 characters\n",
    "def decode_utf8(x):\n",
    "    if pd.isna(x):\n",
    "        return x\n",
    "    if '\\\\x' in x:\n",
    "        return bytes(x, 'utf-8').decode('unicode_escape').encode('latin1').decode('utf-8')\n",
    "    return x\n",
    "\n",
    "million_songs_df['song_title'] = million_songs_df['song_title'].apply(decode_utf8)\n",
    "million_songs_df['artist'] = million_songs_df['artist'].apply(decode_utf8)\n",
    "\n",
    "million_songs_df = million_songs_df.drop('title;artist', axis=1)\n",
    "\n",
    "# million_songs_df.head()"
   ]
  },
  {
   "cell_type": "code",
   "execution_count": null,
   "metadata": {},
   "outputs": [],
   "source": [
    "million_songs_df.head(30)\n"
   ]
  },
  {
   "cell_type": "markdown",
   "metadata": {},
   "source": [
    "Remove second parentheses in song_title\n"
   ]
  },
  {
   "cell_type": "code",
   "execution_count": null,
   "metadata": {},
   "outputs": [],
   "source": [
    "def remove_parentheses(text):\n",
    "    return re.sub(r'\\(.*?\\)', '', text)  # remove everything inside parentheses\n",
    "\n",
    "million_songs_df['song_title'] = million_songs_df['song_title'].apply(remove_parentheses)\n",
    "\n",
    "million_songs_df.head(30)"
   ]
  },
  {
   "cell_type": "markdown",
   "metadata": {},
   "source": [
    "Check for duplicates"
   ]
  },
  {
   "cell_type": "code",
   "execution_count": null,
   "metadata": {},
   "outputs": [],
   "source": [
    "million_songs_df.duplicated(subset=['song_title', 'artist']).sum()\n",
    "\n",
    "million_songs_df.drop_duplicates(subset=['song_title', 'artist'], keep='first')\n",
    "\n",
    "display(million_songs_df)\n"
   ]
  },
  {
   "cell_type": "markdown",
   "metadata": {},
   "source": [
    "## Clean hot100_df"
   ]
  },
  {
   "cell_type": "code",
   "execution_count": 8,
   "metadata": {},
   "outputs": [],
   "source": [
    "hot100_df['song_title'] = hot100_df['song_title'].apply(remove_parentheses)"
   ]
  },
  {
   "cell_type": "code",
   "execution_count": null,
   "metadata": {},
   "outputs": [],
   "source": [
    "hot100_df.head(30)"
   ]
  },
  {
   "cell_type": "markdown",
   "metadata": {},
   "source": [
    "Clean string columns"
   ]
  },
  {
   "cell_type": "code",
   "execution_count": 10,
   "metadata": {},
   "outputs": [],
   "source": [
    "def clean_string_columns(df):\n",
    "        for column in df.columns:\n",
    "            if df[column].dtype == 'object':\n",
    "                df[column] = df[column].str.lower()  # Convert to lowercase\n",
    "                df[column] = df[column].str.replace('feat.', 'featuring', regex=False)  # Replace 'feat.' with 'featuring'\n",
    "                df[column] = df[column].str.replace('&', 'and', regex=False)  # Replace '&' with 'and'\n",
    "        return df"
   ]
  },
  {
   "cell_type": "code",
   "execution_count": null,
   "metadata": {},
   "outputs": [],
   "source": [
    "hot100_df = clean_string_columns(hot100_df)\n",
    "hot100_df.head(30)"
   ]
  },
  {
   "cell_type": "code",
   "execution_count": null,
   "metadata": {},
   "outputs": [],
   "source": [
    "million_songs_df = clean_string_columns(million_songs_df)\n",
    "million_songs_df.head(30)"
   ]
  },
  {
   "cell_type": "markdown",
   "metadata": {},
   "source": [
    "check matching columns"
   ]
  },
  {
   "cell_type": "code",
   "execution_count": null,
   "metadata": {},
   "outputs": [],
   "source": [
    "def clean_text_for_matching(text):\n",
    "    return re.sub(r'[^\\w\\s]', '', str(text).lower()) # remove all punctuation and convert to lowercase\n",
    "\n",
    "hot100_clean = hot100_df['song_title'].apply(clean_text_for_matching)\n",
    "million_clean = million_songs_df['song_title'].apply(clean_text_for_matching)\n",
    "\n",
    "song_matches = pd.merge(\n",
    "    pd.DataFrame({\n",
    "        'clean_title': hot100_clean,\n",
    "        'original_title': hot100_df['song_title'],\n",
    "        'artist': hot100_df['artist']\n",
    "    }),\n",
    "    pd.DataFrame({\n",
    "        'clean_title': million_clean,\n",
    "        'million_title': million_songs_df['song_title'],\n",
    "        'million_artist': million_songs_df['artist']\n",
    "    }),\n",
    "    on='clean_title'\n",
    ")\n",
    "\n",
    "print(f'Number of matching song titles after cleaning: {len(song_matches)}')\n",
    "print('\\nExample matches:')\n",
    "display(song_matches[['original_title', 'million_title', 'artist', 'million_artist']].head(20))"
   ]
  },
  {
   "cell_type": "code",
   "execution_count": null,
   "metadata": {},
   "outputs": [],
   "source": [
    "hot100_clean = hot100_df['artist'].apply(clean_text_for_matching)\n",
    "million_clean = million_songs_df['artist'].apply(clean_text_for_matching)\n",
    "\n",
    "artist_matches = pd.merge(\n",
    "    pd.DataFrame({\n",
    "        'clean_artist': hot100_clean,\n",
    "        'original_title': hot100_df['song_title'],\n",
    "        'artist': hot100_df['artist']\n",
    "    }),\n",
    "    pd.DataFrame({\n",
    "        'clean_artist': million_clean,\n",
    "        'million_title': million_songs_df['song_title'],\n",
    "        'million_artist': million_songs_df['artist']\n",
    "    }),\n",
    "    on='clean_artist'\n",
    ")\n",
    "\n",
    "print(f'Number of matching artist names after cleaning: {len(artist_matches)}')\n",
    "print('\\nExample matches:')\n",
    "display(artist_matches[['original_title', 'million_title', 'artist', 'million_artist']].head(20))"
   ]
  }
 ],
 "metadata": {
  "kernelspec": {
   "display_name": ".venv",
   "language": "python",
   "name": "python3"
  },
  "language_info": {
   "codemirror_mode": {
    "name": "ipython",
    "version": 3
   },
   "file_extension": ".py",
   "mimetype": "text/x-python",
   "name": "python",
   "nbconvert_exporter": "python",
   "pygments_lexer": "ipython3",
   "version": "3.12.2"
  }
 },
 "nbformat": 4,
 "nbformat_minor": 2
}
