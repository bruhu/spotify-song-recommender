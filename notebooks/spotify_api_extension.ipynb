{
 "cells": [
  {
   "cell_type": "code",
   "execution_count": null,
   "metadata": {},
   "outputs": [],
   "source": []
  },
  {
   "cell_type": "code",
   "execution_count": 2,
   "metadata": {},
   "outputs": [],
   "source": [
    "import pandas as pd\n",
    "import spotipy\n",
    "from spotipy.oauth2 import SpotifyClientCredentials\n",
    "from dotenv import load_dotenv\n",
    "import os"
   ]
  },
  {
   "cell_type": "code",
   "execution_count": 3,
   "metadata": {},
   "outputs": [],
   "source": [
    "load_dotenv() # load environment variables\n",
    "\n",
    "client_id = os.getenv('SPOTIFY_CLIENT_ID')\n",
    "client_secret = os.getenv('SPOTIFY_CLIENT_SECRET')\n",
    "\n",
    "client_credentials_manager = SpotifyClientCredentials(client_id, client_secret)\n",
    "sp = spotipy.Spotify(client_credentials_manager=client_credentials_manager)"
   ]
  },
  {
   "cell_type": "code",
   "execution_count": 4,
   "metadata": {},
   "outputs": [
    {
     "name": "stdout",
     "output_type": "stream",
     "text": [
      "Connection successful! Found track:\n",
      "Artist: The Beatles\n",
      "Song: Let It Be - Remastered 2009\n",
      "Album: Let It Be (Remastered)\n",
      "Spotify URI: spotify:track:7iN1s7xHE4ifF5povM6A48\n"
     ]
    }
   ],
   "source": [
    "test_query = \"The Beatles - Let It Be\"\n",
    "result = sp.search(test_query, limit=1, type='track')\n",
    "\n",
    "if result['tracks']['items']:\n",
    "    track = result['tracks']['items'][0]\n",
    "    print(\"Connection successful! Found track:\")\n",
    "    print(f\"Artist: {track['artists'][0]['name']}\")\n",
    "    print(f\"Song: {track['name']}\")\n",
    "    print(f\"Album: {track['album']['name']}\")\n",
    "    print(f\"Spotify URI: {track['uri']}\")\n",
    "else:\n",
    "    print(\"No results found\")"
   ]
  }
 ],
 "metadata": {
  "kernelspec": {
   "display_name": ".venv",
   "language": "python",
   "name": "python3"
  },
  "language_info": {
   "codemirror_mode": {
    "name": "ipython",
    "version": 3
   },
   "file_extension": ".py",
   "mimetype": "text/x-python",
   "name": "python",
   "nbconvert_exporter": "python",
   "pygments_lexer": "ipython3",
   "version": "3.12.2"
  }
 },
 "nbformat": 4,
 "nbformat_minor": 2
}
