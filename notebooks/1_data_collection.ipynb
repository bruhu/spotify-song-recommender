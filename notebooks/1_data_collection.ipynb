{
 "cells": [
  {
   "cell_type": "markdown",
   "metadata": {},
   "source": [
    "## Get Hot 100 chart from Billboard.com"
   ]
  },
  {
   "cell_type": "code",
   "execution_count": 1,
   "metadata": {},
   "outputs": [],
   "source": [
    "import requests\n",
    "from bs4 import BeautifulSoup\n",
    "import pandas as pd"
   ]
  },
  {
   "cell_type": "markdown",
   "metadata": {},
   "source": [
    "#### Get webpage and read response"
   ]
  },
  {
   "cell_type": "code",
   "execution_count": null,
   "metadata": {},
   "outputs": [],
   "source": [
    "url = 'https://www.billboard.com/charts/hot-100/'\n",
    "response = requests.get(url)\n",
    "soup = BeautifulSoup(response.text, 'html.parser')\n",
    "\n",
    "print(soup.prettify())"
   ]
  },
  {
   "cell_type": "markdown",
   "metadata": {},
   "source": [
    "#### Extract song data"
   ]
  },
  {
   "cell_type": "code",
   "execution_count": null,
   "metadata": {},
   "outputs": [],
   "source": [
    "song_titles = []\n",
    "artists = []\n",
    "positions = []\n",
    "\n",
    "chart_items = soup.select('ul.o-chart-results-list-row')\n",
    "\n",
    "for item in chart_items:\n",
    "    position = item.select_one('span.c-label.a-font-primary-bold-l').text.strip() # extract position\n",
    "    title = item.select_one('h3#title-of-a-story').text.strip() # extract title\n",
    "    artist = item.select_one('span.c-label.a-no-trucate').text.strip() # extract artist\n",
    "    \n",
    "    positions.append(position)\n",
    "    song_titles.append(title)\n",
    "    artists.append(artist)\n",
    "\n",
    "hot100_df = pd.DataFrame({\n",
    "    'position': positions,\n",
    "    'song_title': song_titles,\n",
    "    'artist': artists\n",
    "})\n",
    "\n",
    "hot100_df.head(30)"
   ]
  },
  {
   "cell_type": "markdown",
   "metadata": {},
   "source": [
    "#### Save to CSV"
   ]
  },
  {
   "cell_type": "code",
   "execution_count": 4,
   "metadata": {},
   "outputs": [],
   "source": [
    "# hot100_df.to_csv('../data/raw/2_hot100.csv', index=False)"
   ]
  }
 ],
 "metadata": {
  "kernelspec": {
   "display_name": ".venv",
   "language": "python",
   "name": "python3"
  },
  "language_info": {
   "codemirror_mode": {
    "name": "ipython",
    "version": 3
   },
   "file_extension": ".py",
   "mimetype": "text/x-python",
   "name": "python",
   "nbconvert_exporter": "python",
   "pygments_lexer": "ipython3",
   "version": "3.12.2"
  }
 },
 "nbformat": 4,
 "nbformat_minor": 2
}
