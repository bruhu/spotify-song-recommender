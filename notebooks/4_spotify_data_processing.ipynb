{
 "cells": [
  {
   "cell_type": "markdown",
   "metadata": {},
   "source": [
    "### Cleaning and processing the data fetched from the Spotify API"
   ]
  },
  {
   "cell_type": "code",
   "execution_count": 77,
   "metadata": {},
   "outputs": [],
   "source": [
    "import pandas as pd\n",
    "import numpy as np\n",
    "import seaborn as sns\n",
    "import matplotlib.pyplot as plt"
   ]
  },
  {
   "cell_type": "code",
   "execution_count": null,
   "metadata": {},
   "outputs": [],
   "source": [
    "spotify_data = pd.read_csv('../data/local/spotify_million_tracks.csv')\n",
    "\n",
    "spotify_data.head()"
   ]
  },
  {
   "cell_type": "markdown",
   "metadata": {},
   "source": [
    "#### Overview"
   ]
  },
  {
   "cell_type": "code",
   "execution_count": null,
   "metadata": {},
   "outputs": [],
   "source": [
    "def display_basic_info(df):\n",
    "    \"\"\"\n",
    "    Display basic information about the dataset including shape, data types, and missing values\n",
    "    \"\"\"\n",
    "    print('Dataset Shape:', df.shape)\n",
    "    print('\\nData Types:')\n",
    "    print(df.dtypes)\n",
    "    print('\\nMissing Values:')\n",
    "    print(df.isnull().sum())\n",
    "\n",
    "def display_numerical_summary(df):\n",
    "    \"\"\"\n",
    "    Display summary statistics for numerical columns\n",
    "    \"\"\"\n",
    "    print('Numerical Columns Summary:')\n",
    "    print(df.describe())\n",
    "\n",
    "def check_duplicates(df):\n",
    "    \"\"\"\n",
    "    Check for duplicate entries in the dataset\n",
    "    \"\"\"\n",
    "    duplicates = df.duplicated().sum()\n",
    "    print(f'Number of duplicate entries: {duplicates}')\n",
    "    \n",
    "def display_unique_values(df, columns):\n",
    "    \"\"\"\n",
    "    Display number of unique values for specified columns, with special handling for the genres column\n",
    "    \"\"\"\n",
    "    print('Unique Values Count:')\n",
    "    for col in columns:\n",
    "        if col == 'genres':\n",
    "            # Flatten the list of genres and get unique values\n",
    "            all_genres = []\n",
    "            for genre_list in df[col].dropna():\n",
    "                # Convert string representation of list to actual list if needed\n",
    "                if isinstance(genre_list, str):\n",
    "                    genre_list = eval(genre_list)\n",
    "                all_genres.extend(genre_list)\n",
    "            unique_genres = len(set(all_genres))\n",
    "            print(f'{col}: {unique_genres} unique genres')\n",
    "        else:\n",
    "            print(f'{col}: {df[col].nunique()} unique values')\n",
    "\n",
    "display_basic_info(spotify_data)\n",
    "display_numerical_summary(spotify_data)\n",
    "check_duplicates(spotify_data)\n",
    "display_unique_values(spotify_data, ['original_artist', 'genres'])"
   ]
  },
  {
   "cell_type": "markdown",
   "metadata": {},
   "source": [
    "#### Drop duplicates and empty values, reset index"
   ]
  },
  {
   "cell_type": "code",
   "execution_count": null,
   "metadata": {},
   "outputs": [],
   "source": [
    "spotify_data = spotify_data.dropna().drop_duplicates().reset_index(drop=True)\n",
    "display_basic_info(spotify_data)"
   ]
  },
  {
   "cell_type": "markdown",
   "metadata": {},
   "source": [
    "#### Standardize release year"
   ]
  },
  {
   "cell_type": "code",
   "execution_count": 81,
   "metadata": {},
   "outputs": [],
   "source": [
    "def standardize_release_year(df):\n",
    "    \"\"\"\n",
    "    Standardize release_date column to only show years.\n",
    "    Handles both YYYY and YYYY-MM-DD formats.\n",
    "    \"\"\"\n",
    "    df = df.copy()\n",
    "    \n",
    "    df['release_date'] = df['release_date'].apply(lambda x: str(x)[:4]) # extract year from release_date\n",
    "    \n",
    "    df['release_date'] = pd.to_numeric(df['release_date'], errors='coerce')\n",
    "    \n",
    "    return df\n",
    "\n",
    "spotify_data = standardize_release_year(spotify_data)"
   ]
  },
  {
   "cell_type": "code",
   "execution_count": null,
   "metadata": {},
   "outputs": [],
   "source": [
    "spotify_data.head()"
   ]
  },
  {
   "cell_type": "markdown",
   "metadata": {},
   "source": [
    "#### Track duration to seconds"
   ]
  },
  {
   "cell_type": "code",
   "execution_count": null,
   "metadata": {},
   "outputs": [],
   "source": [
    "def add_duration_seconds(df):\n",
    "    \"\"\"\n",
    "    Convert duration from milliseconds to seconds and add as new column 'duration_sec'\n",
    "    \"\"\"\n",
    "    df = df.copy()\n",
    "    \n",
    "    df['duration_sec'] = (df['duration_ms'] / 1000).round(0).astype(int) # convert to seconds and round to integers\n",
    "    \n",
    "    return df\n",
    "\n",
    "spotify_data = add_duration_seconds(spotify_data)\n",
    "\n",
    "print(spotify_data[['duration_ms', 'duration_sec']].head())"
   ]
  },
  {
   "cell_type": "markdown",
   "metadata": {},
   "source": [
    "#### Drop and rename columns"
   ]
  },
  {
   "cell_type": "code",
   "execution_count": null,
   "metadata": {},
   "outputs": [],
   "source": [
    "def drop_columns(df):\n",
    "    \"\"\"\n",
    "    Drop defined columns from the dataset\n",
    "    \"\"\"\n",
    "    columns_to_drop = [\n",
    "        'original_title',\n",
    "        'original_artist',        \n",
    "        'duration_ms',   \n",
    "    ]\n",
    "    \n",
    "    df = df.drop(columns=columns_to_drop, errors='ignore')\n",
    "    return df\n",
    "\n",
    "spotify_data = drop_columns(spotify_data)\n",
    "\n",
    "print('Remaining columns:')\n",
    "print(spotify_data.columns.tolist())"
   ]
  },
  {
   "cell_type": "code",
   "execution_count": null,
   "metadata": {},
   "outputs": [],
   "source": [
    "def rename_columns(df):\n",
    "    \"\"\"\n",
    "    Rename columns to more intuitive names\n",
    "    \"\"\"\n",
    "    column_mapping = {\n",
    "        'spotify_title': 'title',\n",
    "        'spotify_artist': 'artist',\n",
    "        'release_date': 'release_year',\n",
    "        'explicit': 'is_explicit',\n",
    "        'duration_sec': 'duration_seconds'\n",
    "    }\n",
    "    \n",
    "    df = df.rename(columns=column_mapping)\n",
    "    return df\n",
    "\n",
    "spotify_data = rename_columns(spotify_data)\n",
    "\n",
    "print('New column names:')\n",
    "print(spotify_data.columns.tolist())"
   ]
  },
  {
   "cell_type": "markdown",
   "metadata": {},
   "source": [
    "Reorder columns"
   ]
  },
  {
   "cell_type": "code",
   "execution_count": 86,
   "metadata": {},
   "outputs": [],
   "source": [
    "spotify_data = spotify_data[['title', 'artist', 'album', 'release_year', 'popularity', 'genres', 'is_explicit',  'duration_seconds', 'album_cover']]"
   ]
  },
  {
   "cell_type": "code",
   "execution_count": null,
   "metadata": {},
   "outputs": [],
   "source": [
    "display(spotify_data)"
   ]
  },
  {
   "cell_type": "code",
   "execution_count": null,
   "metadata": {},
   "outputs": [],
   "source": []
  }
 ],
 "metadata": {
  "kernelspec": {
   "display_name": "venv",
   "language": "python",
   "name": "python3"
  },
  "language_info": {
   "codemirror_mode": {
    "name": "ipython",
    "version": 3
   },
   "file_extension": ".py",
   "mimetype": "text/x-python",
   "name": "python",
   "nbconvert_exporter": "python",
   "pygments_lexer": "ipython3",
   "version": "3.12.3"
  }
 },
 "nbformat": 4,
 "nbformat_minor": 2
}
