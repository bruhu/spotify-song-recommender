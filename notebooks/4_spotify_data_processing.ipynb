{
 "cells": [
  {
   "cell_type": "markdown",
   "metadata": {},
   "source": [
    "### Cleaning and processing the data fetched from the Spotify API"
   ]
  },
  {
   "cell_type": "code",
   "execution_count": 9,
   "metadata": {},
   "outputs": [],
   "source": [
    "import pandas as pd\n",
    "import numpy as np\n",
    "import seaborn as sns\n",
    "import matplotlib.pyplot as plt"
   ]
  },
  {
   "cell_type": "code",
   "execution_count": null,
   "metadata": {},
   "outputs": [],
   "source": [
    "spotify_data = pd.read_csv('../data/local/spotify_million_tracks.csv')\n",
    "\n",
    "spotify_data.head()"
   ]
  },
  {
   "cell_type": "markdown",
   "metadata": {},
   "source": [
    "#### Overview"
   ]
  },
  {
   "cell_type": "code",
   "execution_count": null,
   "metadata": {},
   "outputs": [],
   "source": [
    "def display_basic_info(df):\n",
    "    \"\"\"\n",
    "    Display basic information about the dataset including shape, data types, and missing values\n",
    "    \"\"\"\n",
    "    print('Dataset Shape:', df.shape)\n",
    "    print('\\nData Types:')\n",
    "    print(df.dtypes)\n",
    "    print('\\nMissing Values:')\n",
    "    print(df.isnull().sum())\n",
    "\n",
    "def display_numerical_summary(df):\n",
    "    \"\"\"\n",
    "    Display summary statistics for numerical columns\n",
    "    \"\"\"\n",
    "    print('Numerical Columns Summary:')\n",
    "    print(df.describe())\n",
    "\n",
    "def check_duplicates(df):\n",
    "    \"\"\"\n",
    "    Check for duplicate entries in the dataset\n",
    "    \"\"\"\n",
    "    duplicates = df.duplicated().sum()\n",
    "    print(f'Number of duplicate entries: {duplicates}')\n",
    "    \n",
    "def display_unique_values(df, columns):\n",
    "    \"\"\"\n",
    "    Display number of unique values for specified columns, with special handling for the genres column\n",
    "    \"\"\"\n",
    "    print('Unique Values Count:')\n",
    "    for col in columns:\n",
    "        if col == 'genres':\n",
    "            # Flatten the list of genres and get unique values\n",
    "            all_genres = []\n",
    "            for genre_list in df[col].dropna():\n",
    "                # Convert string representation of list to actual list if needed\n",
    "                if isinstance(genre_list, str):\n",
    "                    genre_list = eval(genre_list)\n",
    "                all_genres.extend(genre_list)\n",
    "            unique_genres = len(set(all_genres))\n",
    "            print(f'{col}: {unique_genres} unique genres')\n",
    "        else:\n",
    "            print(f'{col}: {df[col].nunique()} unique values')\n",
    "\n",
    "# Example usage:\n",
    "display_basic_info(spotify_data)\n",
    "display_numerical_summary(spotify_data)\n",
    "check_duplicates(spotify_data)\n",
    "display_unique_values(spotify_data, ['original_artist', 'genres'])"
   ]
  },
  {
   "cell_type": "markdown",
   "metadata": {},
   "source": []
  },
  {
   "cell_type": "code",
   "execution_count": null,
   "metadata": {},
   "outputs": [],
   "source": []
  }
 ],
 "metadata": {
  "kernelspec": {
   "display_name": "venv",
   "language": "python",
   "name": "python3"
  },
  "language_info": {
   "codemirror_mode": {
    "name": "ipython",
    "version": 3
   },
   "file_extension": ".py",
   "mimetype": "text/x-python",
   "name": "python",
   "nbconvert_exporter": "python",
   "pygments_lexer": "ipython3",
   "version": "3.12.3"
  }
 },
 "nbformat": 4,
 "nbformat_minor": 2
}
