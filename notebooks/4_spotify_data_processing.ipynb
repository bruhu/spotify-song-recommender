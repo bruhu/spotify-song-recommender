{
 "cells": [
  {
   "cell_type": "markdown",
   "metadata": {},
   "source": [
    "### Cleaning and processing the data fetched from the Spotify API"
   ]
  },
  {
   "cell_type": "code",
   "execution_count": 1,
   "metadata": {},
   "outputs": [],
   "source": [
    "import pandas as pd\n",
    "import numpy as np\n",
    "import matplotlib.pyplot as plt"
   ]
  },
  {
   "cell_type": "code",
   "execution_count": null,
   "metadata": {},
   "outputs": [],
   "source": [
    "spotify_data = pd.read_csv('../data/local/spotify_million_tracks.csv')\n",
    "\n",
    "spotify_data.head()"
   ]
  },
  {
   "cell_type": "markdown",
   "metadata": {},
   "source": [
    "#### Data overview"
   ]
  },
  {
   "cell_type": "code",
   "execution_count": null,
   "metadata": {},
   "outputs": [],
   "source": [
    "def display_basic_info(df):\n",
    "    \"\"\"\n",
    "    Display basic information about the dataset including shape, data types, and missing values\n",
    "    \"\"\"\n",
    "    print('Dataset Shape:', df.shape)\n",
    "    print('\\nData Types:')\n",
    "    print(df.dtypes)\n",
    "    print('\\nMissing Values:')\n",
    "    print(df.isnull().sum())\n",
    "\n",
    "def display_numerical_summary(df):\n",
    "    \"\"\"\n",
    "    Display summary statistics for numerical columns\n",
    "    \"\"\"\n",
    "    print('Numerical Columns Summary:')\n",
    "    print(df.describe())\n",
    "\n",
    "def check_duplicates(df):\n",
    "    \"\"\"\n",
    "    Check for duplicate entries in the dataset\n",
    "    \"\"\"\n",
    "    duplicates = df.duplicated().sum()\n",
    "    print(f'Number of duplicate entries: {duplicates}')\n",
    "    \n",
    "def display_unique_values(df, columns):\n",
    "    \"\"\"\n",
    "    Display number of unique values for specified columns, with special handling for the genres column\n",
    "    \"\"\"\n",
    "    print('Unique Values Count:')\n",
    "    for col in columns:\n",
    "        if col == 'genres':\n",
    "            all_genres = []\n",
    "            for genre_list in df[col].dropna():\n",
    "                if isinstance(genre_list, str):\n",
    "                    genre_list = eval(genre_list)\n",
    "                all_genres.extend(genre_list)\n",
    "            unique_genres = len(set(all_genres))\n",
    "            print(f'{col}: {unique_genres} unique genres')\n",
    "        else:\n",
    "            print(f'{col}: {df[col].nunique()} unique values')\n",
    "\n",
    "display_basic_info(spotify_data)\n",
    "display_numerical_summary(spotify_data)\n",
    "check_duplicates(spotify_data)\n",
    "display_unique_values(spotify_data, ['original_artist', 'genres'])"
   ]
  },
  {
   "cell_type": "markdown",
   "metadata": {},
   "source": [
    "#### Drop duplicates and empty values, reset index"
   ]
  },
  {
   "cell_type": "code",
   "execution_count": null,
   "metadata": {},
   "outputs": [],
   "source": [
    "spotify_data = spotify_data.dropna().drop_duplicates().reset_index(drop=True)\n",
    "display_basic_info(spotify_data)"
   ]
  },
  {
   "cell_type": "markdown",
   "metadata": {},
   "source": [
    "#### Standardize release year"
   ]
  },
  {
   "cell_type": "code",
   "execution_count": 5,
   "metadata": {},
   "outputs": [],
   "source": [
    "def standardize_release_year(df):\n",
    "    \"\"\"\n",
    "    Standardize release_date column to only show years.\n",
    "    Handles both YYYY and YYYY-MM-DD formats.\n",
    "    \"\"\"\n",
    "    df = df.copy()\n",
    "    \n",
    "    df['release_date'] = df['release_date'].apply(lambda x: str(x)[:4]) # extract year from release_date\n",
    "    \n",
    "    df['release_date'] = pd.to_numeric(df['release_date'], errors='coerce')\n",
    "    \n",
    "    return df\n",
    "\n",
    "spotify_data = standardize_release_year(spotify_data)"
   ]
  },
  {
   "cell_type": "code",
   "execution_count": null,
   "metadata": {},
   "outputs": [],
   "source": [
    "spotify_data.head()"
   ]
  },
  {
   "cell_type": "markdown",
   "metadata": {},
   "source": [
    "#### Track duration to seconds"
   ]
  },
  {
   "cell_type": "code",
   "execution_count": null,
   "metadata": {},
   "outputs": [],
   "source": [
    "def add_duration_seconds(df):\n",
    "    \"\"\"\n",
    "    Convert duration from milliseconds to seconds and add as new column 'duration_sec'\n",
    "    \"\"\"\n",
    "    df = df.copy()\n",
    "    \n",
    "    df['duration_sec'] = (df['duration_ms'] / 1000).round(0).astype(int) # convert to seconds and round to integers\n",
    "    \n",
    "    return df\n",
    "\n",
    "spotify_data = add_duration_seconds(spotify_data)\n",
    "\n",
    "print(spotify_data[['duration_ms', 'duration_sec']].head())"
   ]
  },
  {
   "cell_type": "markdown",
   "metadata": {},
   "source": [
    "#### Drop and rename columns"
   ]
  },
  {
   "cell_type": "code",
   "execution_count": null,
   "metadata": {},
   "outputs": [],
   "source": [
    "def drop_columns(df):\n",
    "    \"\"\"\n",
    "    Drop defined columns from the dataset\n",
    "    \"\"\"\n",
    "    columns_to_drop = [\n",
    "        'original_title',\n",
    "        'original_artist',        \n",
    "        'duration_ms',   \n",
    "    ]\n",
    "    \n",
    "    df = df.drop(columns=columns_to_drop, errors='ignore')\n",
    "    return df\n",
    "\n",
    "spotify_data = drop_columns(spotify_data)\n",
    "\n",
    "print('Remaining columns:')\n",
    "print(spotify_data.columns.tolist())"
   ]
  },
  {
   "cell_type": "code",
   "execution_count": null,
   "metadata": {},
   "outputs": [],
   "source": [
    "def rename_columns(df):\n",
    "    \"\"\"\n",
    "    Rename columns to more intuitive names\n",
    "    \"\"\"\n",
    "    column_mapping = {\n",
    "        'spotify_title': 'title',\n",
    "        'spotify_artist': 'artist',\n",
    "        'release_date': 'release_year',\n",
    "        'explicit': 'is_explicit',\n",
    "        'duration_sec': 'duration_seconds'\n",
    "    }\n",
    "    \n",
    "    df = df.rename(columns=column_mapping)\n",
    "    return df\n",
    "\n",
    "spotify_data = rename_columns(spotify_data)\n",
    "\n",
    "print('New column names:')\n",
    "print(spotify_data.columns.tolist())"
   ]
  },
  {
   "cell_type": "markdown",
   "metadata": {},
   "source": [
    "Reorder columns"
   ]
  },
  {
   "cell_type": "code",
   "execution_count": 10,
   "metadata": {},
   "outputs": [],
   "source": [
    "spotify_data = spotify_data[['title', 'artist', 'album', 'release_year', 'popularity', 'genres', 'is_explicit',  'duration_seconds', 'album_cover']]"
   ]
  },
  {
   "cell_type": "code",
   "execution_count": null,
   "metadata": {},
   "outputs": [],
   "source": [
    "display(spotify_data)"
   ]
  },
  {
   "cell_type": "markdown",
   "metadata": {},
   "source": [
    "#### Check the most common words in the genres column"
   ]
  },
  {
   "cell_type": "code",
   "execution_count": null,
   "metadata": {},
   "outputs": [],
   "source": [
    "def analyze_genre_words(df, n_words=25):\n",
    "    \"\"\"\n",
    "    Analyze the most common words in the genres column.\n",
    "    Splits on both spaces and hyphens.\n",
    "    \n",
    "    Parameters:\n",
    "    df : DataFrame containing the genres column\n",
    "    n_words : Number of top words to display (default=30)\n",
    "    \"\"\"\n",
    "    all_words = []\n",
    "    \n",
    "    for genre_list in df['genres'].dropna():    # iterate through every row\n",
    "        if isinstance(genre_list, str):\n",
    "            genre_list = eval(genre_list)\n",
    "            \n",
    "        for genre in genre_list:    # split by spaces and hyphens\n",
    "            space_split = genre.split()\n",
    "            for term in space_split:\n",
    "                hyphen_split = term.split('-')\n",
    "                all_words.extend(hyphen_split)\n",
    "    \n",
    "    all_words = [word.lower() for word in all_words] # convert to lowercase\n",
    "    \n",
    "    word_freq = pd.Series(all_words).value_counts() # count frequencies\n",
    "    \n",
    "    plt.figure(figsize=(12, 6))\n",
    "    ax = word_freq.head(n_words).plot(\n",
    "        kind='bar',\n",
    "        color=plt.cm.tab20(np.arange(n_words)),  \n",
    "        width=0.8\n",
    "    )\n",
    "    \n",
    "    plt.title(f'Top {n_words} Most Common Words in Genres', pad=20)\n",
    "    plt.xlabel('Words')\n",
    "    plt.ylabel('Frequency')\n",
    "    plt.xticks(rotation=45, ha='right')\n",
    "    \n",
    "    for i, v in enumerate(word_freq.head(n_words)):\n",
    "        ax.text(\n",
    "            i, v, str(v), \n",
    "            ha='center', va='bottom'\n",
    "        )\n",
    "    \n",
    "    plt.tight_layout()\n",
    "    \n",
    "    print(f'\\nTop {n_words} most common words in genres:')\n",
    "    for word, count in word_freq.head(n_words).items():\n",
    "        print(f\"{word}: {count}\")\n",
    "    \n",
    "    return word_freq\n",
    "\n",
    "word_frequencies = analyze_genre_words(spotify_data)"
   ]
  },
  {
   "cell_type": "markdown",
   "metadata": {},
   "source": [
    "#### Hot encode genres"
   ]
  },
  {
   "cell_type": "code",
   "execution_count": null,
   "metadata": {},
   "outputs": [],
   "source": [
    "def hot_encode_genre_words(df, word_list):\n",
    "    \"\"\"\n",
    "    Create binary columns for each genre word in the word_list.\n",
    "    Returns a dataframe with new columns indicating if each word appears in the genres.\n",
    "    \"\"\"\n",
    "    df = df.copy()\n",
    "       \n",
    "    for word in word_list:\n",
    "        df[word] = 0 # init columns with 0\n",
    "    \n",
    "    for idx, row in df.iterrows():  # iterate through rows\n",
    "        genre_list = row['genres']\n",
    "        if isinstance(genre_list, str):\n",
    "            genre_list = eval(genre_list)\n",
    "            \n",
    "        words = []\n",
    "        for genre in genre_list:\n",
    "            space_split = genre.split()\n",
    "            for term in space_split:\n",
    "                words.extend(term.split('-'))\n",
    "        \n",
    "        words = [w.lower() for w in words]\n",
    "        \n",
    "        if 'hip' in words and 'hop' in words:   # special case for hip-hop\n",
    "            words.append('hip-hop')\n",
    "        \n",
    "        for word in word_list:  # set binary values\n",
    "            if word in words:\n",
    "                df.at[idx, word] = 1\n",
    "    \n",
    "    return df\n",
    "\n",
    "# define most common genres to encode\n",
    "most_common_genres = [\n",
    "    'rock',\n",
    "    'pop',\n",
    "    'blues',\n",
    "    'metal',\n",
    "    'hip-hop',\n",
    "    'country',\n",
    "    'punk',\n",
    "    'jazz',\n",
    "    'rap',\n",
    "    'reggae',\n",
    "    'folk',\n",
    "    'soul',\n",
    "    'latin',\n",
    "    'dance',\n",
    "    'indie',\n",
    "    'classical'\n",
    "]\n",
    "\n",
    "spotify_data_encoded = hot_encode_genre_words(spotify_data, most_common_genres)\n",
    "\n",
    "print('\\nSample of encoded genres:')\n",
    "print(spotify_data_encoded[most_common_genres].head())\n",
    "\n",
    "print('\\nTotal songs per genre:')\n",
    "print(spotify_data_encoded[most_common_genres].sum().sort_values(ascending=False))"
   ]
  },
  {
   "cell_type": "markdown",
   "metadata": {},
   "source": [
    "Reorder columns"
   ]
  },
  {
   "cell_type": "code",
   "execution_count": null,
   "metadata": {},
   "outputs": [],
   "source": [
    "new_column_order = [\n",
    "    'title', 'artist', 'album', 'release_year', 'popularity', 'is_explicit', 'duration_seconds',\n",
    "    'rock', 'pop', 'blues', 'metal', 'hip-hop', 'country', 'punk', 'jazz', \n",
    "    'rap', 'reggae', 'folk', 'soul', 'latin', 'dance', 'indie', 'classical',\n",
    "    'album_cover', 'genres'\n",
    "]\n",
    "\n",
    "spotify_data_encoded = spotify_data_encoded[new_column_order]\n",
    "display(spotify_data_encoded)\n",
    "spotify_data_encoded.info()"
   ]
  },
  {
   "cell_type": "markdown",
   "metadata": {},
   "source": [
    "#### Save to csv"
   ]
  },
  {
   "cell_type": "code",
   "execution_count": 15,
   "metadata": {},
   "outputs": [],
   "source": [
    "# spotify_data_encoded.to_csv('../data/clean/spotify_data_encoded.csv', index=False)"
   ]
  }
 ],
 "metadata": {
  "kernelspec": {
   "display_name": "venv",
   "language": "python",
   "name": "python3"
  },
  "language_info": {
   "codemirror_mode": {
    "name": "ipython",
    "version": 3
   },
   "file_extension": ".py",
   "mimetype": "text/x-python",
   "name": "python",
   "nbconvert_exporter": "python",
   "pygments_lexer": "ipython3",
   "version": "3.12.3"
  }
 },
 "nbformat": 4,
 "nbformat_minor": 2
}
