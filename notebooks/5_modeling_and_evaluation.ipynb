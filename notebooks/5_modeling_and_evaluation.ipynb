{
 "cells": [
  {
   "cell_type": "markdown",
   "metadata": {},
   "source": [
    "# Modeling and Evaluation\n",
    "\n",
    "Train and evaluate a series of KMeans models to find the best performing model by choosing a value for **k**.\n",
    "\n",
    "## Steps:\n",
    "\n",
    "1. **Load the Clean, Combined Dataset**\n",
    "   - Load the preprocessed and combined dataset containing the audio features.\n",
    "\n",
    "2. **Select Audio Features Based on Description**\n",
    "   - Choose the relevant audio features from the dataset for clustering.\n",
    "\n",
    "3. **Scale the Dataset**\n",
    "   - Apply scaling (e.g., StandardScaler) to normalize the features before training the model.\n",
    "\n",
    "4. **Train a Range of Models with Different k Values**\n",
    "   - Train multiple KMeans models using different values for **k** (e.g., k=2, 3, 4, ..., 10).\n",
    "\n",
    "5. **Evaluate and Select the Top 2 Values for k**\n",
    "   - Use the **Elbow Method** to visually inspect the optimal number of clusters.\n",
    "   - Use the **Silhouette Score** to evaluate how well-defined the clusters are.\n",
    "   \n",
    "6. **Try a Live Test with the Selected Models**\n",
    "   - Test the two top-performing models (based on the Elbow Method and Silhouette Score) in a live setting.\n",
    "   - Select the best performing value of **k** based on the test results."
   ]
  },
  {
   "cell_type": "code",
   "execution_count": 6,
   "metadata": {},
   "outputs": [],
   "source": [
    "import matplotlib.pyplot as plt\n",
    "import os\n",
    "import pandas as pd\n",
    "import numpy as np\n",
    "import pickle\n",
    "from sklearn.preprocessing import StandardScaler\n",
    "from sklearn.cluster import KMeans\n",
    "from sklearn.metrics import silhouette_score\n",
    "from sklearn.cluster import DBSCAN\n",
    "from sklearn.mixture import GaussianMixture\n",
    "from scipy.spatial import distance_matrix"
   ]
  },
  {
   "cell_type": "code",
   "execution_count": 7,
   "metadata": {},
   "outputs": [],
   "source": [
    "df = pd.read_csv('../data/clean/spotify_data_encoded.csv')"
   ]
  },
  {
   "cell_type": "code",
   "execution_count": 8,
   "metadata": {},
   "outputs": [],
   "source": [
    "def display_basic_info(df):\n",
    "    \"\"\"\n",
    "    Display basic information about the dataset including shape, data types, and missing values\n",
    "    \"\"\"\n",
    "    print('Dataset Shape:', df.shape)\n",
    "    print('\\nData Types:')\n",
    "    print(df.dtypes)\n",
    "    print('\\nMissing Values:')\n",
    "    print(df.isnull().sum())\n",
    "\n",
    "def display_numerical_summary(df):\n",
    "    \"\"\"\n",
    "    Display summary statistics for numerical columns\n",
    "    \"\"\"\n",
    "    print('Numerical Columns Summary:')\n",
    "    print(df.describe())\n",
    "\n",
    "def check_duplicates(df):\n",
    "    \"\"\"\n",
    "    Check for duplicate entries in the dataset\n",
    "    \"\"\"\n",
    "    duplicates = df.duplicated().sum()\n",
    "    print(f'Number of duplicate entries: {duplicates}')\n",
    "    \n",
    "def display_unique_values(df, columns):\n",
    "    \"\"\"\n",
    "    Display number of unique values for specified columns, with special handling for the genres column\n",
    "    \"\"\"\n",
    "    print('Unique Values Count:')\n",
    "    for col in columns:\n",
    "        if col == 'genres':\n",
    "            all_genres = []\n",
    "            for genre_list in df[col].dropna():\n",
    "                if isinstance(genre_list, str):\n",
    "                    genre_list = eval(genre_list)\n",
    "                all_genres.extend(genre_list)\n",
    "            unique_genres = len(set(all_genres))\n",
    "            print(f'{col}: {unique_genres} unique genres')\n",
    "        else:\n",
    "            print(f'{col}: {df[col].nunique()} unique values')"
   ]
  },
  {
   "cell_type": "code",
   "execution_count": 10,
   "metadata": {},
   "outputs": [
    {
     "name": "stdout",
     "output_type": "stream",
     "text": [
      "Dataset Shape: (7282, 25)\n",
      "\n",
      "Data Types:\n",
      "title               object\n",
      "artist              object\n",
      "album               object\n",
      "release_year         int64\n",
      "popularity           int64\n",
      "is_explicit           bool\n",
      "duration_seconds     int64\n",
      "rock                 int64\n",
      "pop                  int64\n",
      "blues                int64\n",
      "metal                int64\n",
      "hip-hop              int64\n",
      "country              int64\n",
      "punk                 int64\n",
      "jazz                 int64\n",
      "rap                  int64\n",
      "reggae               int64\n",
      "folk                 int64\n",
      "soul                 int64\n",
      "latin                int64\n",
      "dance                int64\n",
      "indie                int64\n",
      "classical            int64\n",
      "album_cover         object\n",
      "genres              object\n",
      "dtype: object\n",
      "\n",
      "Missing Values:\n",
      "title               0\n",
      "artist              0\n",
      "album               0\n",
      "release_year        0\n",
      "popularity          0\n",
      "is_explicit         0\n",
      "duration_seconds    0\n",
      "rock                0\n",
      "pop                 0\n",
      "blues               0\n",
      "metal               0\n",
      "hip-hop             0\n",
      "country             0\n",
      "punk                0\n",
      "jazz                0\n",
      "rap                 0\n",
      "reggae              0\n",
      "folk                0\n",
      "soul                0\n",
      "latin               0\n",
      "dance               0\n",
      "indie               0\n",
      "classical           0\n",
      "album_cover         0\n",
      "genres              0\n",
      "dtype: int64\n",
      "Numerical Columns Summary:\n",
      "       release_year   popularity  duration_seconds         rock          pop  \\\n",
      "count   7282.000000  7282.000000       7282.000000  7282.000000  7282.000000   \n",
      "mean    1999.305136    14.434633        233.205026     0.275886     0.195825   \n",
      "std       13.860420    16.576341        102.984171     0.446990     0.396862   \n",
      "min     1898.000000     0.000000          7.000000     0.000000     0.000000   \n",
      "25%     1994.000000     1.000000        175.000000     0.000000     0.000000   \n",
      "50%     2003.000000     8.000000        221.000000     0.000000     0.000000   \n",
      "75%     2008.000000    23.000000        270.000000     1.000000     0.000000   \n",
      "max     2025.000000    85.000000       1610.000000     1.000000     1.000000   \n",
      "\n",
      "             blues        metal      hip-hop      country         punk  \\\n",
      "count  7282.000000  7282.000000  7282.000000  7282.000000  7282.000000   \n",
      "mean      0.080335     0.083906     0.054930     0.070448     0.057951   \n",
      "std       0.271830     0.277265     0.227859     0.255918     0.233667   \n",
      "min       0.000000     0.000000     0.000000     0.000000     0.000000   \n",
      "25%       0.000000     0.000000     0.000000     0.000000     0.000000   \n",
      "50%       0.000000     0.000000     0.000000     0.000000     0.000000   \n",
      "75%       0.000000     0.000000     0.000000     0.000000     0.000000   \n",
      "max       1.000000     1.000000     1.000000     1.000000     1.000000   \n",
      "\n",
      "              jazz          rap       reggae         folk         soul  \\\n",
      "count  7282.000000  7282.000000  7282.000000  7282.000000  7282.000000   \n",
      "mean      0.060560     0.045729     0.035155     0.049437     0.030074   \n",
      "std       0.238538     0.208912     0.184185     0.216793     0.170803   \n",
      "min       0.000000     0.000000     0.000000     0.000000     0.000000   \n",
      "25%       0.000000     0.000000     0.000000     0.000000     0.000000   \n",
      "50%       0.000000     0.000000     0.000000     0.000000     0.000000   \n",
      "75%       0.000000     0.000000     0.000000     0.000000     0.000000   \n",
      "max       1.000000     1.000000     1.000000     1.000000     1.000000   \n",
      "\n",
      "             latin        dance        indie    classical  \n",
      "count  7282.000000  7282.000000  7282.000000  7282.000000  \n",
      "mean      0.034469     0.041472     0.032409     0.017578  \n",
      "std       0.182442     0.199393     0.177095     0.131419  \n",
      "min       0.000000     0.000000     0.000000     0.000000  \n",
      "25%       0.000000     0.000000     0.000000     0.000000  \n",
      "50%       0.000000     0.000000     0.000000     0.000000  \n",
      "75%       0.000000     0.000000     0.000000     0.000000  \n",
      "max       1.000000     1.000000     1.000000     1.000000  \n",
      "Number of duplicate entries: 28\n",
      "Unique Values Count:\n",
      "artist: 2911 unique values\n",
      "release_year: 89 unique values\n",
      "genres: 1750 unique genres\n"
     ]
    }
   ],
   "source": [
    "# Show basic information about the dataset\n",
    "display_basic_info(df)\n",
    "\n",
    "# Show numerical summary\n",
    "display_numerical_summary(df)\n",
    "\n",
    "# Check for duplicates\n",
    "check_duplicates(df)\n",
    "\n",
    "# Display unique values for relevant columns\n",
    "display_unique_values(df, ['artist', 'release_year', 'genres'])"
   ]
  },
  {
   "cell_type": "markdown",
   "metadata": {},
   "source": [
    "Select Audio Features"
   ]
  },
  {
   "cell_type": "code",
   "execution_count": null,
   "metadata": {},
   "outputs": [],
   "source": [
    "data = df.copy()"
   ]
  },
  {
   "cell_type": "code",
   "execution_count": null,
   "metadata": {},
   "outputs": [],
   "source": [
    "# Select relevant audio features (music genres)\n",
    "features = data[['rock', 'pop', 'blues', 'metal', 'hip-hop', 'country', \n",
    "                 'punk', 'jazz', 'rap', 'reggae', 'folk', 'soul', 'latin', \n",
    "                 'dance', 'indie', 'classical']]\n"
   ]
  },
  {
   "cell_type": "markdown",
   "metadata": {},
   "source": [
    "Scale the Dataset"
   ]
  },
  {
   "cell_type": "code",
   "execution_count": null,
   "metadata": {},
   "outputs": [],
   "source": [
    "# Scale the features\n",
    "scaler = StandardScaler()\n",
    "scaled_features = scaler.fit_transform(features)"
   ]
  },
  {
   "cell_type": "markdown",
   "metadata": {},
   "source": [
    "Train Models with Different k Values"
   ]
  },
  {
   "cell_type": "code",
   "execution_count": null,
   "metadata": {},
   "outputs": [],
   "source": [
    "\n",
    "# Train models with different k values\n",
    "k_values = [2, 3, 4, 5, 6, 7, 8, 9, 10]\n",
    "models = [KMeans(n_clusters=k, random_state=42) for k in k_values]\n",
    "for model in models:\n",
    "    model.fit(scaled_features)\n",
    "    print(f'Model trained with k={model.n_clusters}')\n"
   ]
  }
 ],
 "metadata": {
  "kernelspec": {
   "display_name": "venv",
   "language": "python",
   "name": "python3"
  },
  "language_info": {
   "codemirror_mode": {
    "name": "ipython",
    "version": 3
   },
   "file_extension": ".py",
   "mimetype": "text/x-python",
   "name": "python",
   "nbconvert_exporter": "python",
   "pygments_lexer": "ipython3",
   "version": "3.12.3"
  }
 },
 "nbformat": 4,
 "nbformat_minor": 2
}
