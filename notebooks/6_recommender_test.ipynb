{
 "cells": [
  {
   "cell_type": "markdown",
   "metadata": {},
   "source": [
    "### **5. Song Recommender Test**\n",
    "\n",
    "A simple Python function that, given a song, looks up its cluster and recommends other songs in the same cluster."
   ]
  },
  {
   "cell_type": "code",
   "execution_count": 1,
   "metadata": {},
   "outputs": [],
   "source": [
    "import pandas as pd"
   ]
  },
  {
   "cell_type": "code",
   "execution_count": 2,
   "metadata": {},
   "outputs": [],
   "source": [
    "songs_df = pd.read_csv('../data/clean/7_clustered_dataset.csv')"
   ]
  },
  {
   "cell_type": "code",
   "execution_count": null,
   "metadata": {},
   "outputs": [],
   "source": [
    "def recommend_songs(song_name, songs_df):\n",
    "    \"\"\"\n",
    "    Recommends songs that are in the same cluster as the given song.\n",
    "    \n",
    "    Parameters:\n",
    "    - song_name: The name of the song you want recommendations for.\n",
    "    - songs_df: DataFrame containing song data (including 'title', 'artist', and 'cluster' columns).\n",
    "    \n",
    "    Returns:\n",
    "    - A list of recommended songs in the format 'Song Title by Artist'.\n",
    "    \"\"\"\n",
    "    \n",
    "    song_row = songs_df[songs_df['title'] == song_name]\n",
    "    if song_row.empty:  # check if song exists\n",
    "        return f\"Song '{song_name}' not found in the database.\"\n",
    "    \n",
    "    song_cluster = song_row['cluster'].values[0]    # get cluster label\n",
    "    \n",
    "    same_cluster_songs = songs_df[songs_df['cluster'] == song_cluster]  # get songs in the same cluster\n",
    "    \n",
    "    recommended_songs = same_cluster_songs[same_cluster_songs['title'] != song_name]  # get recommended songs, excluding the input song\n",
    "    \n",
    "    recommendations = [f\"{row['title']} by {row['artist']}\" for _, row in recommended_songs.iterrows()]  # create a list of formatted song recommendations  \n",
    "    \n",
    "    return recommendations if recommendations else 'No other songs found in the same cluster.'"
   ]
  },
  {
   "cell_type": "code",
   "execution_count": null,
   "metadata": {},
   "outputs": [],
   "source": [
    "song_name = \"It's All Wrong, but It's All Right\"\n",
    "recommendations = recommend_songs(song_name, songs_df)\n",
    "\n",
    "print(f\"Recommended songs for '{song_name}':\")\n",
    "print(recommendations)"
   ]
  },
  {
   "cell_type": "code",
   "execution_count": null,
   "metadata": {},
   "outputs": [],
   "source": [
    "song_name = \"It's All Wrong, but It's All Right\"\n",
    "recommendations = recommend_songs(song_name, songs_df)\n",
    "\n",
    "print(f\"Recommended songs for '{song_name}':\")\n",
    "print(recommendations)"
   ]
  },
  {
   "cell_type": "code",
   "execution_count": null,
   "metadata": {},
   "outputs": [],
   "source": [
    "song_name = \"Blue Orchid\"\n",
    "recommendations = recommend_songs(song_name, songs_df)\n",
    "\n",
    "print(f\"Recommended songs for '{song_name}':\")\n",
    "print(recommendations)"
   ]
  }
 ],
 "metadata": {
  "kernelspec": {
   "display_name": "venv",
   "language": "python",
   "name": "python3"
  },
  "language_info": {
   "codemirror_mode": {
    "name": "ipython",
    "version": 3
   },
   "file_extension": ".py",
   "mimetype": "text/x-python",
   "name": "python",
   "nbconvert_exporter": "python",
   "pygments_lexer": "ipython3",
   "version": "3.12.3"
  }
 },
 "nbformat": 4,
 "nbformat_minor": 2
}
